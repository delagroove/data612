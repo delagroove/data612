{
 "cells": [
  {
   "cell_type": "markdown",
   "metadata": {},
   "source": [
    "## Final project proposal\n",
    "### Alvaro Bueno\n",
    "\n",
    "For the final project I want to build a recommender system for yelpers, using the [Yelp Dataset](https://www.yelp.com/dataset/download). It's almos 9Gb of user and review data, photos metadata and check-ins if any.\n",
    "\n",
    "I think the dataset is of a correct size to be worked on Pyspark as a beginner. so i will use Apache spark in a local cluster. i will extend that architecture to use apache mesos as suggested architecture in [PaperSpace for pyspark](https://github.com/Paperspace/jupyter-docker-stacks/tree/master/pyspark-notebook)\n",
    "\n",
    "### Goal\n",
    "\n",
    "The goal of this project is to apply all concepts learned about recommender systems architecture and deploy a Spark cluster that returns restaurant recommendations, Analyze its performance and if the advantages/overkill of setting up such work in your company when you have limited data.\n",
    "\n",
    "### Challenges \n",
    "\n",
    "The time is a bit short for learning Spark, but the Jupyter notebook and the look and feel of the server option helps to kickstart the process. I also worry a bit about a bad algo overflowing and hiiting hard my wallet, but the 9gb dataset is safe to make it start locally.\n",
    "\n",
    "###  Techniques \n",
    "\n",
    "I will use \n"
   ]
  }
 ],
 "metadata": {
  "kernelspec": {
   "display_name": "Python 3",
   "language": "python",
   "name": "python3"
  },
  "language_info": {
   "codemirror_mode": {
    "name": "ipython",
    "version": 3
   },
   "file_extension": ".py",
   "mimetype": "text/x-python",
   "name": "python",
   "nbconvert_exporter": "python",
   "pygments_lexer": "ipython3",
   "version": "3.7.3"
  }
 },
 "nbformat": 4,
 "nbformat_minor": 2
}
