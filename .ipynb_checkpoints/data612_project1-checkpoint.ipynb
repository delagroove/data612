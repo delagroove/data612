{
 "cells": [
  {
   "cell_type": "markdown",
   "metadata": {},
   "source": [
    "# Recommender Systems - Project 1\n",
    "## Alvaro Bueno"
   ]
  },
  {
   "cell_type": "markdown",
   "metadata": {},
   "source": [
    "### Recommender system dataset"
   ]
  },
  {
   "cell_type": "markdown",
   "metadata": {},
   "source": [
    "I have created my own dataset based on cooking books, there are 6 users and 6 books to be reviewed, the idea is that the system will take readers input ratings for some cooking books and predict the reader's rating for other similar books"
   ]
  },
  {
   "cell_type": "code",
   "execution_count": 62,
   "metadata": {
    "scrolled": true
   },
   "outputs": [
    {
     "data": {
      "text/html": [
       "<div>\n",
       "<style scoped>\n",
       "    .dataframe tbody tr th:only-of-type {\n",
       "        vertical-align: middle;\n",
       "    }\n",
       "\n",
       "    .dataframe tbody tr th {\n",
       "        vertical-align: top;\n",
       "    }\n",
       "\n",
       "    .dataframe thead th {\n",
       "        text-align: right;\n",
       "    }\n",
       "</style>\n",
       "<table border=\"1\" class=\"dataframe\">\n",
       "  <thead>\n",
       "    <tr style=\"text-align: right;\">\n",
       "      <th></th>\n",
       "      <th>Delish</th>\n",
       "      <th>Plenty</th>\n",
       "      <th>Salt Fat Acid Heat</th>\n",
       "      <th>The VietNamese Cookbook</th>\n",
       "      <th>Thug Kitchen</th>\n",
       "      <th>Unnamed: 0</th>\n",
       "    </tr>\n",
       "  </thead>\n",
       "  <tbody>\n",
       "    <tr>\n",
       "      <th>0</th>\n",
       "      <td>3.0</td>\n",
       "      <td>4.0</td>\n",
       "      <td>4</td>\n",
       "      <td>3.0</td>\n",
       "      <td>2.0</td>\n",
       "      <td>0</td>\n",
       "    </tr>\n",
       "    <tr>\n",
       "      <th>1</th>\n",
       "      <td>4.0</td>\n",
       "      <td>3.0</td>\n",
       "      <td>5</td>\n",
       "      <td>3.0</td>\n",
       "      <td>NaN</td>\n",
       "      <td>1</td>\n",
       "    </tr>\n",
       "    <tr>\n",
       "      <th>2</th>\n",
       "      <td>5.0</td>\n",
       "      <td>3.0</td>\n",
       "      <td>4</td>\n",
       "      <td>NaN</td>\n",
       "      <td>3.0</td>\n",
       "      <td>2</td>\n",
       "    </tr>\n",
       "    <tr>\n",
       "      <th>3</th>\n",
       "      <td>5.0</td>\n",
       "      <td>NaN</td>\n",
       "      <td>4</td>\n",
       "      <td>3.0</td>\n",
       "      <td>NaN</td>\n",
       "      <td>3</td>\n",
       "    </tr>\n",
       "    <tr>\n",
       "      <th>4</th>\n",
       "      <td>2.0</td>\n",
       "      <td>2.0</td>\n",
       "      <td>5</td>\n",
       "      <td>2.0</td>\n",
       "      <td>3.0</td>\n",
       "      <td>4</td>\n",
       "    </tr>\n",
       "  </tbody>\n",
       "</table>\n",
       "</div>"
      ],
      "text/plain": [
       "   Delish  Plenty  Salt Fat Acid Heat  The VietNamese Cookbook  Thug Kitchen  \\\n",
       "0     3.0     4.0                   4                      3.0           2.0   \n",
       "1     4.0     3.0                   5                      3.0           NaN   \n",
       "2     5.0     3.0                   4                      NaN           3.0   \n",
       "3     5.0     NaN                   4                      3.0           NaN   \n",
       "4     2.0     2.0                   5                      2.0           3.0   \n",
       "\n",
       "   Unnamed: 0  \n",
       "0           0  \n",
       "1           1  \n",
       "2           2  \n",
       "3           3  \n",
       "4           4  "
      ]
     },
     "execution_count": 62,
     "metadata": {},
     "output_type": "execute_result"
    }
   ],
   "source": [
    "#import packages to set working environment:\n",
    "import pandas as pd\n",
    "from matplotlib import pyplot as plt\n",
    "books = pd.read_csv('https://raw.githubusercontent.com/delagroove/data612/master/book_ratings.csv')\n",
    "books = books[sorted(books.columns)]\n",
    "books.head()\n"
   ]
  },
  {
   "cell_type": "code",
   "execution_count": 63,
   "metadata": {},
   "outputs": [
    {
     "data": {
      "text/plain": [
       "0    2.666667\n",
       "1    3.200000\n",
       "2    3.400000\n",
       "3    3.750000\n",
       "4    3.000000\n",
       "5    3.400000\n",
       "dtype: float64"
      ]
     },
     "execution_count": 63,
     "metadata": {},
     "output_type": "execute_result"
    }
   ],
   "source": [
    "books.mean(axis=1,skipna = True)"
   ]
  },
  {
   "cell_type": "code",
   "execution_count": 64,
   "metadata": {},
   "outputs": [
    {
     "name": "stdout",
     "output_type": "stream",
     "text": [
      "Delish                     3.800000\n",
      "Plenty                     3.200000\n",
      "Salt Fat Acid Heat         4.166667\n",
      "The VietNamese Cookbook    2.600000\n",
      "Thug Kitchen               2.750000\n",
      "Unnamed: 0                 2.500000\n",
      "dtype: float64\n",
      "0    2.666667\n",
      "1    3.200000\n",
      "2    3.400000\n",
      "3    3.750000\n",
      "4    3.000000\n",
      "5    3.400000\n",
      "dtype: float64\n"
     ]
    }
   ],
   "source": [
    "books_mean_col = books.mean(axis=0, skipna = True)\n",
    "books_mean_row = books.mean(axis=1, skipna = True)\n",
    "print(books_mean_col)\n",
    "print(books_mean_row)"
   ]
  },
  {
   "cell_type": "markdown",
   "metadata": {},
   "source": [
    "### creating 2 datasets: train & test"
   ]
  },
  {
   "cell_type": "code",
   "execution_count": 65,
   "metadata": {},
   "outputs": [
    {
     "name": "stdout",
     "output_type": "stream",
     "text": [
      "Average of training set: 3.1666666666666665\n",
      "\n",
      "Average of test set: 3.2857142857142856\n",
      "\n"
     ]
    }
   ],
   "source": [
    "from sklearn.model_selection import train_test_split\n",
    "\n",
    "books_col = books.stack()\n",
    "books_col.head(30)\n",
    "books_train, books_test = train_test_split(books_col, test_size =0.2)\n",
    "\n",
    "books_train = books_train.sort_index()\n",
    "books_test = books_test.sort_index()\n",
    "\n",
    "books_train_mean = books_train.mean()\n",
    "books_test_mean = books_test.mean()\n",
    "\n",
    "print(\"Average of training set: \" + str(books_train_mean) + \"\\n\")\n",
    "print(\"Average of test set: \" + str(books_test_mean) + \"\\n\")"
   ]
  },
  {
   "cell_type": "markdown",
   "metadata": {},
   "source": [
    "### Now, let's calculate the row and column averages to calculate the biases"
   ]
  },
  {
   "cell_type": "code",
   "execution_count": 66,
   "metadata": {},
   "outputs": [
    {
     "name": "stdout",
     "output_type": "stream",
     "text": [
      "Delish                     3.800000\n",
      "Plenty                     3.000000\n",
      "Salt Fat Acid Heat         4.500000\n",
      "The VietNamese Cookbook    2.600000\n",
      "Thug Kitchen               3.000000\n",
      "Unnamed: 0                 1.666667\n",
      "dtype: float64\n",
      "0    2.50\n",
      "1    3.20\n",
      "2    3.75\n",
      "3    4.00\n",
      "4    3.00\n",
      "5    2.50\n",
      "dtype: float64\n"
     ]
    }
   ],
   "source": [
    "books_train_wide = books_train.unstack().sort_index()\n",
    "books_train_column_means = books_train_wide.mean(axis=0,skipna = True)\n",
    "\n",
    "print(str(books_train_column_means))\n",
    "\n",
    "books_train_row_means = books_train_wide.mean(axis=1,skipna = True)\n",
    "\n",
    "print(str(books_train_row_means))"
   ]
  },
  {
   "cell_type": "code",
   "execution_count": 67,
   "metadata": {},
   "outputs": [
    {
     "name": "stdout",
     "output_type": "stream",
     "text": [
      "Salt Fat Acid Heat    3.500000\n",
      "Thug Kitchen          2.000000\n",
      "Unnamed: 0            3.333333\n",
      "Plenty                4.000000\n",
      "dtype: float64\n",
      "0    3.0\n",
      "2    2.0\n",
      "3    3.0\n",
      "5    4.0\n",
      "dtype: float64\n"
     ]
    }
   ],
   "source": [
    "books_test_all = books_test.unstack().sort_index()\n",
    "books_test_all\n",
    "books_test_column_means = books_test_all.mean(axis=0,skipna = True)\n",
    "print(str(books_test_column_means))\n",
    "books_test_row_means = books_test_all.mean(axis=1,skipna = True)\n",
    "print(str(books_test_row_means))"
   ]
  },
  {
   "cell_type": "markdown",
   "metadata": {},
   "source": [
    "### Calculate the RMSE "
   ]
  },
  {
   "cell_type": "code",
   "execution_count": 68,
   "metadata": {},
   "outputs": [
    {
     "name": "stdout",
     "output_type": "stream",
     "text": [
      "RMSE training set: 1.247219128924647\n",
      "\n",
      "RMSE test set: 1.0370134162086937\n",
      "\n"
     ]
    }
   ],
   "source": [
    "from sklearn.metrics import mean_squared_error\n",
    "\n",
    "train_pred = [books_train.mean()]*len(books_train)\n",
    "train_rmse = mean_squared_error(books_train, train_pred)**0.5\n",
    "print(\"RMSE training set: \" + str(train_rmse) + \"\\n\")\n",
    "test_pred = [books_train.mean()]*len(books_test) \n",
    "test_rmse = mean_squared_error(books_test, test_pred)**0.5\n",
    "print(\"RMSE test set: \" + str(test_rmse) + \"\\n\")"
   ]
  },
  {
   "cell_type": "markdown",
   "metadata": {},
   "source": [
    "### calculate bias using training data"
   ]
  },
  {
   "cell_type": "code",
   "execution_count": 69,
   "metadata": {},
   "outputs": [
    {
     "data": {
      "text/html": [
       "<div>\n",
       "<style scoped>\n",
       "    .dataframe tbody tr th:only-of-type {\n",
       "        vertical-align: middle;\n",
       "    }\n",
       "\n",
       "    .dataframe tbody tr th {\n",
       "        vertical-align: top;\n",
       "    }\n",
       "\n",
       "    .dataframe thead th {\n",
       "        text-align: right;\n",
       "    }\n",
       "</style>\n",
       "<table border=\"1\" class=\"dataframe\">\n",
       "  <thead>\n",
       "    <tr style=\"text-align: right;\">\n",
       "      <th></th>\n",
       "      <th>Delish</th>\n",
       "      <th>Plenty</th>\n",
       "      <th>Salt Fat Acid Heat</th>\n",
       "      <th>The VietNamese Cookbook</th>\n",
       "      <th>Thug Kitchen</th>\n",
       "      <th>Unnamed: 0</th>\n",
       "    </tr>\n",
       "  </thead>\n",
       "  <tbody>\n",
       "    <tr>\n",
       "      <th>0</th>\n",
       "      <td>3.13333</td>\n",
       "      <td>2.33333</td>\n",
       "      <td>3.83333</td>\n",
       "      <td>1.93333</td>\n",
       "      <td>2.33333</td>\n",
       "      <td>1</td>\n",
       "    </tr>\n",
       "    <tr>\n",
       "      <th>1</th>\n",
       "      <td>3.83333</td>\n",
       "      <td>3.03333</td>\n",
       "      <td>4.53333</td>\n",
       "      <td>2.63333</td>\n",
       "      <td>3.03333</td>\n",
       "      <td>1.7</td>\n",
       "    </tr>\n",
       "    <tr>\n",
       "      <th>2</th>\n",
       "      <td>4.38333</td>\n",
       "      <td>3.58333</td>\n",
       "      <td>5</td>\n",
       "      <td>3.18333</td>\n",
       "      <td>3.58333</td>\n",
       "      <td>2.25</td>\n",
       "    </tr>\n",
       "    <tr>\n",
       "      <th>3</th>\n",
       "      <td>4.63333</td>\n",
       "      <td>3.83333</td>\n",
       "      <td>5</td>\n",
       "      <td>3.43333</td>\n",
       "      <td>3.83333</td>\n",
       "      <td>2.5</td>\n",
       "    </tr>\n",
       "    <tr>\n",
       "      <th>4</th>\n",
       "      <td>3.63333</td>\n",
       "      <td>2.83333</td>\n",
       "      <td>4.33333</td>\n",
       "      <td>2.43333</td>\n",
       "      <td>2.83333</td>\n",
       "      <td>1.5</td>\n",
       "    </tr>\n",
       "  </tbody>\n",
       "</table>\n",
       "</div>"
      ],
      "text/plain": [
       "    Delish   Plenty Salt Fat Acid Heat The VietNamese Cookbook Thug Kitchen  \\\n",
       "0  3.13333  2.33333            3.83333                 1.93333      2.33333   \n",
       "1  3.83333  3.03333            4.53333                 2.63333      3.03333   \n",
       "2  4.38333  3.58333                  5                 3.18333      3.58333   \n",
       "3  4.63333  3.83333                  5                 3.43333      3.83333   \n",
       "4  3.63333  2.83333            4.33333                 2.43333      2.83333   \n",
       "\n",
       "  Unnamed: 0  \n",
       "0          1  \n",
       "1        1.7  \n",
       "2       2.25  \n",
       "3        2.5  \n",
       "4        1.5  "
      ]
     },
     "execution_count": 69,
     "metadata": {},
     "output_type": "execute_result"
    }
   ],
   "source": [
    "# Calculate the bias for each user and each item.\n",
    "\n",
    "show_bias = books_train_column_means - books_train_mean \n",
    "user_bias = books_train_row_means - books_train_mean \n",
    "\n",
    "#calculate the baseline predictors -> every user-item combination. \n",
    "\n",
    "books_prediction = pd.DataFrame(index=books.index, columns=books.columns.values)\n",
    "for i in range(0,len(user_bias)):\n",
    "    for j in range(0,len(show_bias)):\n",
    "            books_prediction.iloc[i,j] = books_train_mean + user_bias[i] + show_bias[j]\n",
    "            if books_prediction.iloc[i,j] < 1.0:\n",
    "                books_prediction.iloc[i,j] = 1.0\n",
    "            elif books_prediction.iloc[i,j] > 5.0:\n",
    "                books_prediction.iloc[i,j] = 5.0\n",
    "books_prediction.head()"
   ]
  },
  {
   "cell_type": "code",
   "execution_count": 70,
   "metadata": {},
   "outputs": [
    {
     "data": {
      "text/html": [
       "<div>\n",
       "<style scoped>\n",
       "    .dataframe tbody tr th:only-of-type {\n",
       "        vertical-align: middle;\n",
       "    }\n",
       "\n",
       "    .dataframe tbody tr th {\n",
       "        vertical-align: top;\n",
       "    }\n",
       "\n",
       "    .dataframe thead th {\n",
       "        text-align: right;\n",
       "    }\n",
       "</style>\n",
       "<table border=\"1\" class=\"dataframe\">\n",
       "  <thead>\n",
       "    <tr style=\"text-align: right;\">\n",
       "      <th></th>\n",
       "      <th>Delish</th>\n",
       "      <th>Plenty</th>\n",
       "      <th>Salt Fat Acid Heat</th>\n",
       "      <th>The VietNamese Cookbook</th>\n",
       "      <th>Thug Kitchen</th>\n",
       "      <th>Unnamed: 0</th>\n",
       "    </tr>\n",
       "  </thead>\n",
       "  <tbody>\n",
       "    <tr>\n",
       "      <th>0</th>\n",
       "      <td>3.13333</td>\n",
       "      <td>2.33333</td>\n",
       "      <td>NaN</td>\n",
       "      <td>1.93333</td>\n",
       "      <td>NaN</td>\n",
       "      <td>1</td>\n",
       "    </tr>\n",
       "    <tr>\n",
       "      <th>1</th>\n",
       "      <td>3.83333</td>\n",
       "      <td>3.03333</td>\n",
       "      <td>4.53333</td>\n",
       "      <td>2.63333</td>\n",
       "      <td>NaN</td>\n",
       "      <td>1.7</td>\n",
       "    </tr>\n",
       "    <tr>\n",
       "      <th>2</th>\n",
       "      <td>4.38333</td>\n",
       "      <td>3.58333</td>\n",
       "      <td>5</td>\n",
       "      <td>NaN</td>\n",
       "      <td>3.58333</td>\n",
       "      <td>NaN</td>\n",
       "    </tr>\n",
       "    <tr>\n",
       "      <th>3</th>\n",
       "      <td>4.63333</td>\n",
       "      <td>NaN</td>\n",
       "      <td>5</td>\n",
       "      <td>3.43333</td>\n",
       "      <td>NaN</td>\n",
       "      <td>NaN</td>\n",
       "    </tr>\n",
       "    <tr>\n",
       "      <th>4</th>\n",
       "      <td>3.63333</td>\n",
       "      <td>2.83333</td>\n",
       "      <td>4.33333</td>\n",
       "      <td>2.43333</td>\n",
       "      <td>2.83333</td>\n",
       "      <td>1.5</td>\n",
       "    </tr>\n",
       "  </tbody>\n",
       "</table>\n",
       "</div>"
      ],
      "text/plain": [
       "    Delish   Plenty Salt Fat Acid Heat The VietNamese Cookbook Thug Kitchen  \\\n",
       "0  3.13333  2.33333                NaN                 1.93333          NaN   \n",
       "1  3.83333  3.03333            4.53333                 2.63333          NaN   \n",
       "2  4.38333  3.58333                  5                     NaN      3.58333   \n",
       "3  4.63333      NaN                  5                 3.43333          NaN   \n",
       "4  3.63333  2.83333            4.33333                 2.43333      2.83333   \n",
       "\n",
       "  Unnamed: 0  \n",
       "0          1  \n",
       "1        1.7  \n",
       "2        NaN  \n",
       "3        NaN  \n",
       "4        1.5  "
      ]
     },
     "execution_count": 70,
     "metadata": {},
     "output_type": "execute_result"
    }
   ],
   "source": [
    "import math\n",
    "books_prediction_train = pd.DataFrame(index=books.index, columns=books.columns.values)\n",
    "books_prediction_train = books_prediction_train[sorted(books_prediction_train.columns)]\n",
    "books_train_wide = books_train_wide[sorted(books_train_wide.columns)]\n",
    "for i in range(0,len(user_bias)):\n",
    "    for j in range(0,len(show_bias)):\n",
    "        if math.isnan(books_train_wide.iloc[i,j]):\n",
    "            continue\n",
    "        else:\n",
    "            books_prediction_train.iloc[i,j] = books_train_mean + user_bias[i] + show_bias[j]\n",
    "            if books_prediction_train.iloc[i,j] < 1.0:\n",
    "                books_prediction_train.iloc[i,j] = 1.0\n",
    "            elif books_prediction_train.iloc[i,j] > 5.0:\n",
    "                books_prediction_train.iloc[i,j] = 5.0\n",
    "books_prediction_train.head()"
   ]
  },
  {
   "cell_type": "code",
   "execution_count": 71,
   "metadata": {
    "scrolled": true
   },
   "outputs": [
    {
     "name": "stdout",
     "output_type": "stream",
     "text": [
      "RMSE training set: 0.9107828846453819\n",
      "\n"
     ]
    }
   ],
   "source": [
    "train_base_rmse = mean_squared_error(books_train, books_prediction_train.stack().sort_index())**0.5\n",
    "print(\"RMSE training set: \" + str(train_base_rmse) + \"\\n\")"
   ]
  },
  {
   "cell_type": "code",
   "execution_count": 72,
   "metadata": {},
   "outputs": [],
   "source": [
    "books_prediction_test = pd.DataFrame(index=books.index, columns=books.columns.values)\n",
    "books_prediction_test = books_prediction_test[sorted(books_prediction_test.columns)]\n",
    "books_test_all = books_test_all[sorted(books_test_all.columns)]\n",
    "books_test_all = books_test_all.reindex(books.index)\n",
    "\n",
    "\n",
    "\n",
    "\n"
   ]
  },
  {
   "cell_type": "code",
   "execution_count": 73,
   "metadata": {},
   "outputs": [
    {
     "data": {
      "text/html": [
       "<div>\n",
       "<style scoped>\n",
       "    .dataframe tbody tr th:only-of-type {\n",
       "        vertical-align: middle;\n",
       "    }\n",
       "\n",
       "    .dataframe tbody tr th {\n",
       "        vertical-align: top;\n",
       "    }\n",
       "\n",
       "    .dataframe thead th {\n",
       "        text-align: right;\n",
       "    }\n",
       "</style>\n",
       "<table border=\"1\" class=\"dataframe\">\n",
       "  <thead>\n",
       "    <tr style=\"text-align: right;\">\n",
       "      <th></th>\n",
       "      <th>Delish</th>\n",
       "      <th>Plenty</th>\n",
       "      <th>Salt Fat Acid Heat</th>\n",
       "      <th>The VietNamese Cookbook</th>\n",
       "      <th>Thug Kitchen</th>\n",
       "      <th>Unnamed: 0</th>\n",
       "    </tr>\n",
       "  </thead>\n",
       "  <tbody>\n",
       "    <tr>\n",
       "      <th>0</th>\n",
       "      <td>NaN</td>\n",
       "      <td>2.45238</td>\n",
       "      <td>3.95238</td>\n",
       "      <td>NaN</td>\n",
       "      <td>NaN</td>\n",
       "      <td>NaN</td>\n",
       "    </tr>\n",
       "    <tr>\n",
       "      <th>1</th>\n",
       "      <td>NaN</td>\n",
       "      <td>NaN</td>\n",
       "      <td>NaN</td>\n",
       "      <td>NaN</td>\n",
       "      <td>NaN</td>\n",
       "      <td>NaN</td>\n",
       "    </tr>\n",
       "    <tr>\n",
       "      <th>2</th>\n",
       "      <td>NaN</td>\n",
       "      <td>NaN</td>\n",
       "      <td>NaN</td>\n",
       "      <td>3.30238</td>\n",
       "      <td>NaN</td>\n",
       "      <td>NaN</td>\n",
       "    </tr>\n",
       "    <tr>\n",
       "      <th>3</th>\n",
       "      <td>NaN</td>\n",
       "      <td>NaN</td>\n",
       "      <td>NaN</td>\n",
       "      <td>3.55238</td>\n",
       "      <td>NaN</td>\n",
       "      <td>NaN</td>\n",
       "    </tr>\n",
       "    <tr>\n",
       "      <th>4</th>\n",
       "      <td>NaN</td>\n",
       "      <td>NaN</td>\n",
       "      <td>NaN</td>\n",
       "      <td>NaN</td>\n",
       "      <td>NaN</td>\n",
       "      <td>NaN</td>\n",
       "    </tr>\n",
       "  </tbody>\n",
       "</table>\n",
       "</div>"
      ],
      "text/plain": [
       "  Delish   Plenty Salt Fat Acid Heat The VietNamese Cookbook Thug Kitchen  \\\n",
       "0    NaN  2.45238            3.95238                     NaN          NaN   \n",
       "1    NaN      NaN                NaN                     NaN          NaN   \n",
       "2    NaN      NaN                NaN                 3.30238          NaN   \n",
       "3    NaN      NaN                NaN                 3.55238          NaN   \n",
       "4    NaN      NaN                NaN                     NaN          NaN   \n",
       "\n",
       "  Unnamed: 0  \n",
       "0        NaN  \n",
       "1        NaN  \n",
       "2        NaN  \n",
       "3        NaN  \n",
       "4        NaN  "
      ]
     },
     "execution_count": 73,
     "metadata": {},
     "output_type": "execute_result"
    }
   ],
   "source": [
    "for l in range(0,books_test_all.shape[0]):\n",
    "    for k in range(0,books_test_all.shape[1]):\n",
    "        if math.isnan(books_test_all.iloc[l,k]):\n",
    "            continue\n",
    "        else:\n",
    "            books_prediction_test.iloc[l,k] = books_test_mean + user_bias[l] + show_bias[k]\n",
    "            if books_prediction_test.iloc[l,k] < 1.0:\n",
    "                books_prediction_test.iloc[l,k] = 1.0\n",
    "            elif books_prediction_test.iloc[l,k] > 5.0:\n",
    "                books_prediction_test.iloc[l,k] = 5.0\n",
    "books_prediction_test.head()"
   ]
  },
  {
   "cell_type": "code",
   "execution_count": 74,
   "metadata": {},
   "outputs": [
    {
     "name": "stdout",
     "output_type": "stream",
     "text": [
      "RMSE test set: 1.5926400307582675\n",
      "\n"
     ]
    }
   ],
   "source": [
    "test_base_rmse = mean_squared_error(books_test, books_prediction_test.stack().sort_index())**0.5\n",
    "print(\"RMSE test set: \" + str(test_base_rmse) + \"\\n\")"
   ]
  },
  {
   "cell_type": "markdown",
   "metadata": {},
   "source": [
    "## Conclusions"
   ]
  },
  {
   "cell_type": "markdown",
   "metadata": {},
   "source": [
    "\n",
    "My results show 26.97% of improvement for the rating prediction for the training set but it shows issues with the test dues probably due to the fact that it was broken down incorrectly or there are too many missing values."
   ]
  },
  {
   "cell_type": "code",
   "execution_count": 80,
   "metadata": {},
   "outputs": [
    {
     "name": "stdout",
     "output_type": "stream",
     "text": [
      "Train: 26.974910541128448\n",
      "test: -53.57950108118532\n"
     ]
    }
   ],
   "source": [
    "print(\"Train: \"+str((1-(train_base_rmse/train_rmse))*100) )\n",
    "print(\"test: \"+str((1-(test_base_rmse/test_rmse))*100) )\n",
    "\n",
    "\n"
   ]
  }
 ],
 "metadata": {
  "kernelspec": {
   "display_name": "Python 3",
   "language": "python",
   "name": "python3"
  },
  "language_info": {
   "codemirror_mode": {
    "name": "ipython",
    "version": 3
   },
   "file_extension": ".py",
   "mimetype": "text/x-python",
   "name": "python",
   "nbconvert_exporter": "python",
   "pygments_lexer": "ipython3",
   "version": "3.7.3"
  }
 },
 "nbformat": 4,
 "nbformat_minor": 2
}
